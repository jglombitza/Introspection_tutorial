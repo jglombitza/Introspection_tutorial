{
  "cells": [
    {
      "cell_type": "markdown",
      "metadata": {
        "id": "view-in-github",
        "colab_type": "text"
      },
      "source": [
        "<a href=\"https://colab.research.google.com/github/jglombitza/Introspection_tutorial/blob/main/discriminative_localization.ipynb\" target=\"_parent\"><img src=\"https://colab.research.google.com/assets/colab-badge.svg\" alt=\"Open In Colab\"/></a>"
      ]
    },
    {
      "cell_type": "markdown",
      "metadata": {
        "id": "mx32Eg8mS0S0"
      },
      "source": [
        "## Discriminative localization (CAM)\n",
        "In this exercise we will create class activation maps (CAMs) for predictions made by a model trained on the MNIST dataset.\n",
        " 1. Pick out correctly and wrongly classified images classified with a convolutional network.\n",
        " 2. Create and plot the class activation maps and compare them with the images in order to see which regions lead to the prediction."
      ]
    },
    {
      "cell_type": "code",
      "execution_count": 1,
      "metadata": {
        "colab": {
          "base_uri": "https://localhost:8080/"
        },
        "id": "UYvtCKl3S0S4",
        "outputId": "4557aeb9-c71a-43a3-cf45-cced463ead02"
      },
      "outputs": [
        {
          "output_type": "stream",
          "name": "stdout",
          "text": [
            "keras 2.8.0\n"
          ]
        }
      ],
      "source": [
        "from tensorflow import keras\n",
        "import numpy as np\n",
        "callbacks = keras.callbacks\n",
        "layers = keras.layers\n",
        "\n",
        "print(\"keras\", keras.__version__)"
      ]
    },
    {
      "cell_type": "markdown",
      "metadata": {
        "id": "CYL4WAFHS0S8"
      },
      "source": [
        "### Load and prepare dataset"
      ]
    },
    {
      "cell_type": "code",
      "execution_count": 2,
      "metadata": {
        "id": "tWb17zLKS0S-"
      },
      "outputs": [],
      "source": [
        "(x_train, y_train), (x_test, y_test) = keras.datasets.mnist.load_data()\n",
        "x_train = x_train.astype(np.float32)[...,np.newaxis] / 255.\n",
        "x_test = x_test.astype(np.float32)[...,np.newaxis] / 255.\n",
        "y_train = keras.utils.to_categorical(y_train, 10)\n",
        "y_test = keras.utils.to_categorical(y_test, 10)"
      ]
    },
    {
      "cell_type": "markdown",
      "metadata": {
        "id": "1D_EnkzJS0TC"
      },
      "source": [
        "### Definition of the model\n",
        "\n",
        "Define a CNN for discriminative localization. Note that the CNN must use `GlobalAveragePooling2D` after the convolutional part and must not feature more than a single fully-connected layer as output.\n",
        "Note, you don't have to change the model, just leave it as it is."
      ]
    },
    {
      "cell_type": "code",
      "execution_count": 3,
      "metadata": {
        "colab": {
          "base_uri": "https://localhost:8080/"
        },
        "id": "ateaELxoS0TD",
        "outputId": "c6491db2-1244-4e82-e39b-63e1e7a7dc5a"
      },
      "outputs": [
        {
          "output_type": "stream",
          "name": "stdout",
          "text": [
            "Model: \"sequential\"\n",
            "_________________________________________________________________\n",
            " Layer (type)                Output Shape              Param #   \n",
            "=================================================================\n",
            " conv2d (Conv2D)             (None, 28, 28, 16)        160       \n",
            "                                                                 \n",
            " conv2d_1 (Conv2D)           (None, 28, 28, 16)        2320      \n",
            "                                                                 \n",
            " max_pooling2d (MaxPooling2D  (None, 14, 14, 16)       0         \n",
            " )                                                               \n",
            "                                                                 \n",
            " conv2d_2 (Conv2D)           (None, 14, 14, 32)        4640      \n",
            "                                                                 \n",
            " conv2d_3 (Conv2D)           (None, 14, 14, 32)        9248      \n",
            "                                                                 \n",
            " global_average_pooling2d (G  (None, 32)               0         \n",
            " lobalAveragePooling2D)                                          \n",
            "                                                                 \n",
            " dropout (Dropout)           (None, 32)                0         \n",
            "                                                                 \n",
            " dense (Dense)               (None, 10)                330       \n",
            "                                                                 \n",
            "=================================================================\n",
            "Total params: 16,698\n",
            "Trainable params: 16,698\n",
            "Non-trainable params: 0\n",
            "_________________________________________________________________\n"
          ]
        }
      ],
      "source": [
        "model = keras.models.Sequential()\n",
        "model.add(layers.InputLayer(input_shape=(28, 28, 1)))\n",
        "model.add(layers.Convolution2D(16, (3, 3), padding='same', activation='relu'))\n",
        "model.add(layers.Convolution2D(16, (3, 3), padding='same', activation='relu'))\n",
        "model.add(layers.MaxPooling2D((2, 2)))\n",
        "model.add(layers.Convolution2D(32, (3, 3), padding='same', activation='relu'))\n",
        "model.add(layers.Convolution2D(32, (3, 3), padding='same', activation='relu'))\n",
        "model.add(layers.GlobalAveragePooling2D())\n",
        "model.add(layers.Dropout(0.25))\n",
        "model.add(layers.Dense(10, activation='softmax'))\n",
        "\n",
        "model.summary()"
      ]
    },
    {
      "cell_type": "markdown",
      "metadata": {
        "id": "01xthVJPS0TF"
      },
      "source": [
        "### prepare model for training"
      ]
    },
    {
      "cell_type": "code",
      "execution_count": 4,
      "metadata": {
        "id": "REF_rSvsS0TH"
      },
      "outputs": [],
      "source": [
        "model.compile(\n",
        "    loss='categorical_crossentropy',\n",
        "    optimizer=keras.optimizers.Adam(0.001),\n",
        "    metrics=['accuracy'])\n"
      ]
    },
    {
      "cell_type": "code",
      "execution_count": 5,
      "metadata": {
        "colab": {
          "base_uri": "https://localhost:8080/"
        },
        "id": "2sRv8OnCS0TI",
        "outputId": "8446e11c-0c24-4a8a-9daf-28c6bf61c7ae"
      },
      "outputs": [
        {
          "output_type": "stream",
          "name": "stdout",
          "text": [
            "Epoch 1/8\n",
            "844/844 - 13s - loss: 1.1588 - accuracy: 0.5934 - val_loss: 0.3358 - val_accuracy: 0.9285 - 13s/epoch - 16ms/step\n",
            "Epoch 2/8\n",
            "844/844 - 6s - loss: 0.4323 - accuracy: 0.8668 - val_loss: 0.1824 - val_accuracy: 0.9542 - 6s/epoch - 7ms/step\n",
            "Epoch 3/8\n",
            "844/844 - 7s - loss: 0.3067 - accuracy: 0.9083 - val_loss: 0.1480 - val_accuracy: 0.9590 - 7s/epoch - 8ms/step\n",
            "Epoch 4/8\n",
            "844/844 - 9s - loss: 0.2503 - accuracy: 0.9262 - val_loss: 0.1054 - val_accuracy: 0.9685 - 9s/epoch - 11ms/step\n",
            "Epoch 5/8\n",
            "844/844 - 7s - loss: 0.2197 - accuracy: 0.9337 - val_loss: 0.0882 - val_accuracy: 0.9750 - 7s/epoch - 9ms/step\n",
            "Epoch 6/8\n",
            "844/844 - 7s - loss: 0.1953 - accuracy: 0.9413 - val_loss: 0.0915 - val_accuracy: 0.9727 - 7s/epoch - 8ms/step\n",
            "Epoch 7/8\n",
            "844/844 - 6s - loss: 0.1844 - accuracy: 0.9447 - val_loss: 0.0834 - val_accuracy: 0.9757 - 6s/epoch - 7ms/step\n",
            "Epoch 8/8\n",
            "844/844 - 6s - loss: 0.1695 - accuracy: 0.9485 - val_loss: 0.0762 - val_accuracy: 0.9777 - 6s/epoch - 7ms/step\n"
          ]
        }
      ],
      "source": [
        "results = model.fit(x_train, y_train,\n",
        "                    batch_size=64,\n",
        "                    epochs=8,\n",
        "                    verbose=2,\n",
        "                    validation_split=0.1,\n",
        "                    )"
      ]
    },
    {
      "cell_type": "markdown",
      "metadata": {
        "id": "kg5LwbkIS0TK"
      },
      "source": [
        "### Evaluate training"
      ]
    },
    {
      "cell_type": "code",
      "execution_count": 6,
      "metadata": {
        "colab": {
          "base_uri": "https://localhost:8080/",
          "height": 72
        },
        "id": "gec4Nm9AS0TL",
        "outputId": "471a6a9e-03a1-47c6-ecee-3153aae938e7"
      },
      "outputs": [
        {
          "output_type": "execute_result",
          "data": {
            "text/plain": [
              "<matplotlib.legend.Legend at 0x7f4380088610>"
            ]
          },
          "metadata": {},
          "execution_count": 6
        },
        {
          "output_type": "display_data",
          "data": {
            "text/plain": [
              "<Figure size 864x288 with 1 Axes>"
            ],
            "image/png": "[encoded data removed]"
          },
          "metadata": {
            "needs_background": "light"
          }
        }
      ],
      "source": [
        "from matplotlib import pyplot as plt\n",
        "plt.figure(1, (12, 4))\n",
        "plt.subplot(1, 2, 1)\n",
        "plt.plot(results.history['loss'])\n",
        "plt.plot(results.history['val_loss'])\n",
        "plt.ylabel('loss')\n",
        "plt.xlabel('epoch')\n",
        "plt.legend(['train', 'val'], loc='upper right')"
      ]
    },
    {
      "cell_type": "code",
      "execution_count": 7,
      "metadata": {
        "colab": {
          "base_uri": "https://localhost:8080/",
          "height": 72
        },
        "id": "JsiwjGRAS0TN",
        "outputId": "bca88f40-401d-4fe0-edb2-7ee02d738f80"
      },
      "outputs": [
        {
          "output_type": "execute_result",
          "data": {
            "text/plain": [
              "<matplotlib.legend.Legend at 0x7f430cbb5d90>"
            ]
          },
          "metadata": {},
          "execution_count": 7
        },
        {
          "output_type": "display_data",
          "data": {
            "text/plain": [
              "<Figure size 864x288 with 1 Axes>"
            ],
            "image/png": "[encoded data removed]"
          },
          "metadata": {
            "needs_background": "light"
          }
        }
      ],
      "source": [
        "plt.figure(1, (12, 4))\n",
        "plt.subplot(1, 2, 1)\n",
        "plt.plot(results.history['accuracy'])\n",
        "plt.plot(results.history['val_accuracy'])\n",
        "plt.ylabel('accuracy')\n",
        "plt.xlabel('epoch')\n",
        "plt.legend(['train', 'val'], loc='upper right')"
      ]
    },
    {
      "cell_type": "markdown",
      "metadata": {
        "id": "xj6yT9JXS0TQ"
      },
      "source": [
        "## Create class activation maps"
      ]
    },
    {
      "cell_type": "markdown",
      "metadata": {
        "id": "zvwlLSQuS0TQ"
      },
      "source": [
        "Extract the activations of the last convolutional layer."
      ]
    },
    {
      "cell_type": "code",
      "execution_count": 8,
      "metadata": {
        "colab": {
          "base_uri": "https://localhost:8080/"
        },
        "id": "g92RRb_US0TR",
        "outputId": "ae80f2a5-8f45-451e-c82b-50c21958ddef"
      },
      "outputs": [
        {
          "output_type": "stream",
          "name": "stdout",
          "text": [
            "Tensorshape of activation tensor (10000, 14, 14, 32)\n"
          ]
        }
      ],
      "source": [
        "conv = model.layers[-4]\n",
        "conv_func = keras.models.Model(model.inputs, conv.output)\n",
        "A = conv_func.predict(x_test)\n",
        "print(\"Tensorshape of activation tensor\", A.shape)"
      ]
    },
    {
      "cell_type": "code",
      "source": [
        "W, b = model.layers[-1].get_weights()\n",
        "print(\"Tensorshape of weight matrix\", W.shape)"
      ],
      "metadata": {
        "id": "zj0tivfJn3XO",
        "outputId": "0de85654-05ed-4236-e901-ee71f4d5525e",
        "colab": {
          "base_uri": "https://localhost:8080/"
        }
      },
      "execution_count": 9,
      "outputs": [
        {
          "output_type": "stream",
          "name": "stdout",
          "text": [
            "Tensorshape of weight matrix (32, 10)\n"
          ]
        }
      ]
    },
    {
      "cell_type": "markdown",
      "metadata": {
        "id": "EbKfAFTyS0TT"
      },
      "source": [
        "\n",
        "\n",
        "---\n",
        "\n",
        "\n",
        "**Task:**\n",
        "Create the class activation maps by omitting the global average pooling operation and applying the weights of the single classification layer to the extracted activations. The operation reads:\n",
        "\n",
        "$\\mathrm{CAM}_{ixyz} = \\sum_{ixyz} A_{ixyz} \\cdot W_{zc} + b_c$,\n",
        "\n",
        "where $i$=samples, $x,y$=pixel indices, $z$=feature map, $c$=classes (features of last layer), and $\\mathrm{CAM}_{ixyz}$ indicates the tensor of 10 CAMs (one for each class).\n",
        "\n",
        "\n",
        "Make use of numpy's `np.einsum()`. For example, performing a matrix multiplication $\\sum_{j}A_{ij} \\cdot B_{jk}$ reads:\n",
        "\n",
        "\n",
        " `np.einsum('ij,jk->ik', A, B)`\n",
        "\n",
        "\n",
        "---\n",
        "\n"
      ]
    },
    {
      "cell_type": "code",
      "execution_count": null,
      "metadata": {
        "id": "feZF-PDGS0TT"
      },
      "outputs": [],
      "source": [
        "M = np.einsum()"
      ]
    },
    {
      "cell_type": "code",
      "execution_count": null,
      "metadata": {
        "id": "a2XUn_wJS0TU"
      },
      "outputs": [],
      "source": [
        "y_pred = model.predict(x_test, verbose=1)\n",
        "\n",
        "y_pred = np.argmax(y_pred, axis=-1).round()\n",
        "y_true = np.argmax(y_test, axis=-1).round()"
      ]
    },
    {
      "cell_type": "markdown",
      "metadata": {
        "id": "ckFnxCsRS0TW"
      },
      "source": [
        "### Plot the class activation maps for samples that were correctly and wrongly classifed by the CNN."
      ]
    },
    {
      "cell_type": "code",
      "execution_count": null,
      "metadata": {
        "id": "54u1EL7hS0TX"
      },
      "outputs": [],
      "source": [
        "from scipy.special import softmax\n",
        "\n",
        "def plot_CAM(M, x_test, idx):\n",
        "    fig = plt.figure(figsize=(15, 6))\n",
        "    prob = softmax(np.mean(M[idx], axis=(0,1)))\n",
        "\n",
        "    for i in range(10):\n",
        "        X = x_test[idx,...].squeeze()  # the image itself\n",
        "        M1 = M[idx,..., i]  # activation map for digit i\n",
        "        ax = plt.subplot(2, 5, i+1)\n",
        "\n",
        "        fig.subplots_adjust(right=0.8, wspace=0.05)\n",
        "        ax.imshow(X, cmap=plt.cm.gray, extent=(0, 28, 0, 28), alpha=0.75)\n",
        "\n",
        "        # plot overlay of class activations, perform upsampling by bilinear interpolation\n",
        "        kwargs = dict(cmap=plt.cm.seismic, extent=(0, 28, 0, 28),\n",
        "                      interpolation='bilinear', alpha=0.5, vmin=-3*M[idx].std(), vmax=3*M[idx].std())\n",
        "        img = ax.imshow(M1, **kwargs)\n",
        "        ax.set_title(\"CAM for digit %i\\n predicted prob: %.3f\" % (i, prob[i]))\n",
        "\n",
        "    cbar = fig.colorbar(img, cax=fig.add_axes([0.99, 0.1, 0.02, 0.8]))\n",
        "    cbar.set_label('Class activation')\n",
        "    plt.tight_layout()"
      ]
    },
    {
      "cell_type": "markdown",
      "source": [
        "### Correctly and wrongly classified samples\n",
        "\n",
        "\n",
        "---\n",
        "\n",
        "**Task**:\n",
        "\n",
        "Find indices where the network performed correct predictions and where the network failed.\n",
        "\n",
        "---\n"
      ],
      "metadata": {
        "id": "uOIffWK5ssGM"
      }
    },
    {
      "cell_type": "code",
      "execution_count": null,
      "metadata": {
        "id": "0uhSNyV8S0TV"
      },
      "outputs": [],
      "source": [
        "idx_correct = \n",
        "idx_wrong = "
      ]
    },
    {
      "cell_type": "markdown",
      "metadata": {
        "id": "4ZVCSTaDS0TY"
      },
      "source": [
        "**Plot correctly classified sample**\n",
        "\n"
      ]
    },
    {
      "cell_type": "code",
      "execution_count": null,
      "metadata": {
        "id": "RyY3_k4MS0TY"
      },
      "outputs": [],
      "source": [
        "plot_CAM(M, x_test, np.random.choice(idx_correct, 1)[0])"
      ]
    },
    {
      "cell_type": "markdown",
      "metadata": {
        "id": "TqPuupjXS0TZ"
      },
      "source": [
        "**Plot wrongly classified sample** "
      ]
    },
    {
      "cell_type": "code",
      "execution_count": null,
      "metadata": {
        "id": "txNdrQ7wS0Ta"
      },
      "outputs": [],
      "source": [
        "plot_CAM(M, x_test, np.random.choice(idx_wrong, 1)[0])"
      ]
    }
  ],
  "metadata": {
    "kernelspec": {
      "display_name": "Python 3",
      "language": "python",
      "name": "python3"
    },
    "language_info": {
      "codemirror_mode": {
        "name": "ipython",
        "version": 3
      },
      "file_extension": ".py",
      "mimetype": "text/x-python",
      "name": "python",
      "nbconvert_exporter": "python",
      "pygments_lexer": "ipython3",
      "version": "3.6.9"
    },
    "colab": {
      "name": "Exercise_12_3_solution.ipynb",
      "provenance": [],
      "include_colab_link": true
    },
    "accelerator": "GPU"
  },
  "nbformat": 4,
  "nbformat_minor": 0
}